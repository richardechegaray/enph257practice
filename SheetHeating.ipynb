{
 "cells": [
  {
   "cell_type": "code",
   "execution_count": 3,
   "metadata": {},
   "outputs": [],
   "source": [
    "import numpy as np\n",
    "import matplotlib.pyplot as plt\n",
    "\n",
    "#constants \n",
    "I = 1000 #W/m^2\n",
    "r = 0.9 #reflectance\n",
    "Emissp = 0.9\n",
    "Emissm = 0.1\n",
    "Tair = 40 + 273.15 \n",
    "Ts = -20 + 273.15#\n",
    "Te = 40 +273.15 # K\n",
    "SteffBoltz =  5.670374419e-8\n",
    "dt = 0.001\n",
    "ro = 1.20 #kg/m^3\n",
    "c  = 1.3 #Kj/Kg/k\n",
    "\n",
    "sheet = 40+273.15\n",
    "prev = 0\n",
    "time = 0\n",
    "timeseries = []\n",
    "\n",
    "dT_dt = lambda T :  (I*r -SteffBoltz*(Emissp*(T**4-Tair**4)+Emissm * (T**4 - Te**4)) )/(c*ro)\n",
    "\n",
    "while((sheet-prev)/dt>1e-8):\n",
    "    prev = sheet\n",
    "    timeseries += [sheet]\n",
    "    sheet += dT_dt(sheet)*dt\n",
    "    time += dt"
   ]
  },
  {
   "cell_type": "code",
   "execution_count": 4,
   "metadata": {},
   "outputs": [
    {
     "name": "stdout",
     "output_type": "stream",
     "text": [
      "126.41297389227628\n",
      "2.73499999999981\n"
     ]
    },
    {
     "data": {
      "text/plain": [
       "[<matplotlib.lines.Line2D at 0x204ba867f98>]"
      ]
     },
     "execution_count": 4,
     "metadata": {},
     "output_type": "execute_result"
    },
    {
     "data": {
      "image/png": "[encoded data removed]",
      "text/plain": [
       "<Figure size 432x288 with 1 Axes>"
      ]
     },
     "metadata": {
      "needs_background": "light"
     },
     "output_type": "display_data"
    }
   ],
   "source": [
    "print (sheet-273.15)\n",
    "print (time)\n",
    "plt.plot([i*dt for i in range(int((time+0.001)/dt))], timeseries)"
   ]
  }
 ],
 "metadata": {
  "kernelspec": {
   "display_name": "Python 3",
   "language": "python",
   "name": "python3"
  },
  "language_info": {
   "codemirror_mode": {
    "name": "ipython",
    "version": 3
   },
   "file_extension": ".py",
   "mimetype": "text/x-python",
   "name": "python",
   "nbconvert_exporter": "python",
   "pygments_lexer": "ipython3",
   "version": "3.7.3"
  }
 },
 "nbformat": 4,
 "nbformat_minor": 2
}
